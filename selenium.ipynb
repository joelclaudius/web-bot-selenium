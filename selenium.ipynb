{
 "cells": [
  {
   "cell_type": "code",
   "execution_count": 19,
   "metadata": {},
   "outputs": [],
   "source": [
    "from selenium import webdriver\n",
    "from selenium.webdriver.common.by import By\n",
    "from selenium.webdriver.common.keys import Keys\n",
    "\n",
    "\n",
    "driver = webdriver.Chrome()\n",
    "\n",
    "driver.implicitly_wait(5)\n",
    "\n",
    "driver.get(\"https://demo.seleniumeasy.com/basic-first-form-demo.html\")\n",
    "\n",
    "sum1=driver.find_element(\"name\", 'sum1')\n",
    "sum2=driver.find_element(\"name\", 'sum2')\n",
    "\n",
    "sum1.send_keys(20)\n",
    "sum2.send_keys(30)\n",
    "\n",
    "btn=driver.find_element(\"css selector\", 'button[onclick=\"return total()\"]')\n",
    "btn.click()\n",
    "\n"
   ]
  },
  {
   "cell_type": "code",
   "execution_count": null,
   "metadata": {},
   "outputs": [],
   "source": []
  }
 ],
 "metadata": {
  "kernelspec": {
   "display_name": "Python 3",
   "language": "python",
   "name": "python3"
  },
  "language_info": {
   "codemirror_mode": {
    "name": "ipython",
    "version": 3
   },
   "file_extension": ".py",
   "mimetype": "text/x-python",
   "name": "python",
   "nbconvert_exporter": "python",
   "pygments_lexer": "ipython3",
   "version": "3.12.0"
  }
 },
 "nbformat": 4,
 "nbformat_minor": 2
}
